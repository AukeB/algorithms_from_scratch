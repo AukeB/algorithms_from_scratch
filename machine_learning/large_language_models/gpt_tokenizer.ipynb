{
 "cells": [
  {
   "cell_type": "markdown",
   "metadata": {},
   "source": [
    "# GPT Tokenizer\n"
   ]
  },
  {
   "cell_type": "code",
   "execution_count": 7,
   "metadata": {},
   "outputs": [],
   "source": [
    "import re\n",
    "\n",
    "class DataLoader:\n",
    "    def __init__(self, filepath):\n",
    "        self.filepath = filepath\n",
    "\n",
    "    def load_text(self):\n",
    "        try:\n",
    "            with open(self.filepath, \"r\", encoding=\"utf-8\") as file:\n",
    "                return file.read()\n",
    "        except FileNotFoundError:\n",
    "            print(f\"Error: File '{self.filepath}' not found.\")\n",
    "            return \"\"\n",
    "        except Exception as e:\n",
    "            print(f\"Error: {e}\")\n",
    "            return \"\"\n",
    "    \n",
    "    def clean_text(self, text):\n",
    "        text = re.sub(r\" {2,}\", \" \", text)\n",
    "        text = re.sub(r\"\\n{2,}\", \"\\n\", text)\n",
    "        return text.strip()"
   ]
  },
  {
   "cell_type": "code",
   "execution_count": 9,
   "metadata": {},
   "outputs": [],
   "source": [
    "file_path =\"data/text_test.txt\"\n",
    "\n",
    "data_loader = DataLoader(file_path)\n",
    "text = data_loader.load_text()\n",
    "cleaned_text = data_loader.clean_text(text)"
   ]
  },
  {
   "cell_type": "code",
   "execution_count": 10,
   "metadata": {},
   "outputs": [
    {
     "name": "stdout",
     "output_type": "stream",
     "text": [
      "[239, 188, 181, 239, 189, 142, 239, 189, 137, 239, 189, 131, 239, 189, 143, 239, 189, 132, 239, 189]\n"
     ]
    }
   ],
   "source": [
    "tokens = cleaned_text.encode(\"utf-8\")\n",
    "tokens = list(map(int, tokens))\n",
    "print(tokens[:20])"
   ]
  },
  {
   "cell_type": "markdown",
   "metadata": {},
   "source": [
    "### Exercise 1\n",
    "\n",
    "**Find the pair of bytes that occur most frequently**"
   ]
  },
  {
   "cell_type": "code",
   "execution_count": 14,
   "metadata": {},
   "outputs": [
    {
     "data": {
      "text/plain": [
       "[(101, 32)]"
      ]
     },
     "execution_count": 14,
     "metadata": {},
     "output_type": "execute_result"
    }
   ],
   "source": [
    "from collections import defaultdict\n",
    "\n",
    "def find_most_occuring_byte_pair(encoded_text: list[int]) -> tuple[int, int]:\n",
    "    \"\"\" \"\"\"\n",
    "    byte_pair_count = defaultdict(int)\n",
    "\n",
    "    for current_element, next_element in zip(encoded_text[:-2], encoded_text[1:]):\n",
    "        byte_pair = (current_element, next_element)\n",
    "        byte_pair_count[byte_pair] += 1\n",
    "    \n",
    "    return [byte_pair for byte_pair, count in byte_pair_count.items() if count == max(byte_pair_count.values())]\n",
    "\n",
    "byte_pair_count = find_most_occuring_byte_pair(encoded_text=tokens)\n",
    "byte_pair_count\n"
   ]
  },
  {
   "cell_type": "code",
   "execution_count": null,
   "metadata": {},
   "outputs": [],
   "source": []
  }
 ],
 "metadata": {
  "kernelspec": {
   "display_name": "Python 3",
   "language": "python",
   "name": "python3"
  },
  "language_info": {
   "codemirror_mode": {
    "name": "ipython",
    "version": 3
   },
   "file_extension": ".py",
   "mimetype": "text/x-python",
   "name": "python",
   "nbconvert_exporter": "python",
   "pygments_lexer": "ipython3",
   "version": "3.10.11"
  }
 },
 "nbformat": 4,
 "nbformat_minor": 2
}
